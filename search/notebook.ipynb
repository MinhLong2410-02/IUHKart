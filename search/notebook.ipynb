{
 "cells": [
  {
   "cell_type": "code",
   "execution_count": 18,
   "metadata": {},
   "outputs": [],
   "source": [
    "from qdrant_client import QdrantClient\n",
    "from qdrant_client.http.models import Distance, VectorParams, PointStruct\n",
    "\n",
    "client = QdrantClient(path=\"qdrant_db\") # or QdrantClient(\":memory:\")"
   ]
  },
  {
   "cell_type": "code",
   "execution_count": 38,
   "metadata": {},
   "outputs": [
    {
     "data": {
      "text/html": [
       "<div>\n",
       "<style scoped>\n",
       "    .dataframe tbody tr th:only-of-type {\n",
       "        vertical-align: middle;\n",
       "    }\n",
       "\n",
       "    .dataframe tbody tr th {\n",
       "        vertical-align: top;\n",
       "    }\n",
       "\n",
       "    .dataframe thead th {\n",
       "        text-align: right;\n",
       "    }\n",
       "</style>\n",
       "<table border=\"1\" class=\"dataframe\">\n",
       "  <thead>\n",
       "    <tr style=\"text-align: right;\">\n",
       "      <th></th>\n",
       "      <th>slug</th>\n",
       "      <th>product_name</th>\n",
       "      <th>category_name</th>\n",
       "    </tr>\n",
       "  </thead>\n",
       "  <tbody>\n",
       "    <tr>\n",
       "      <th>0</th>\n",
       "      <td>women-canvas-messenger-bag-youth-ladies-fashio...</td>\n",
       "      <td>Women Canvas Messenger Bag Youth Ladies Fashio...</td>\n",
       "      <td>Luggages &amp; Bags</td>\n",
       "    </tr>\n",
       "    <tr>\n",
       "      <th>1</th>\n",
       "      <td>100-genuine-leather-crossbody-bag-for-women-sh...</td>\n",
       "      <td>100% Genuine Leather Crossbody Bag For Women S...</td>\n",
       "      <td>Luggages &amp; Bags</td>\n",
       "    </tr>\n",
       "    <tr>\n",
       "      <th>2</th>\n",
       "      <td>10pcs-candy-color-bear-pendant-charms-for-neck...</td>\n",
       "      <td>10Pcs Candy Color Bear Pendant Charms for Neck...</td>\n",
       "      <td>Jewelry &amp; Accessories</td>\n",
       "    </tr>\n",
       "    <tr>\n",
       "      <th>3</th>\n",
       "      <td>juya-18k-real-gold-plated-new-creativetree-of-...</td>\n",
       "      <td>Juya 18K Real Gold Plated New CreativeTree Of ...</td>\n",
       "      <td>Jewelry &amp; Accessories</td>\n",
       "    </tr>\n",
       "    <tr>\n",
       "      <th>4</th>\n",
       "      <td>2023-new-trend-fashion-four-leaf-grass-printin...</td>\n",
       "      <td>2023 New Trend Fashion Four Leaf Grass Printin...</td>\n",
       "      <td>Luggages &amp; Bags</td>\n",
       "    </tr>\n",
       "  </tbody>\n",
       "</table>\n",
       "</div>"
      ],
      "text/plain": [
       "                                                slug  \\\n",
       "0  women-canvas-messenger-bag-youth-ladies-fashio...   \n",
       "1  100-genuine-leather-crossbody-bag-for-women-sh...   \n",
       "2  10pcs-candy-color-bear-pendant-charms-for-neck...   \n",
       "3  juya-18k-real-gold-plated-new-creativetree-of-...   \n",
       "4  2023-new-trend-fashion-four-leaf-grass-printin...   \n",
       "\n",
       "                                        product_name          category_name  \n",
       "0  Women Canvas Messenger Bag Youth Ladies Fashio...        Luggages & Bags  \n",
       "1  100% Genuine Leather Crossbody Bag For Women S...        Luggages & Bags  \n",
       "2  10Pcs Candy Color Bear Pendant Charms for Neck...  Jewelry & Accessories  \n",
       "3  Juya 18K Real Gold Plated New CreativeTree Of ...  Jewelry & Accessories  \n",
       "4  2023 New Trend Fashion Four Leaf Grass Printin...        Luggages & Bags  "
      ]
     },
     "execution_count": 38,
     "metadata": {},
     "output_type": "execute_result"
    }
   ],
   "source": [
    "# connect sqlite3\n",
    "import sqlite3\n",
    "import pandas as pd\n",
    "path_sqlite3 = \"/Users/qxnam/Documents/semeter/DATA-PLATFORM/IUHKart/iuhkart/db.sqlite3\"\n",
    "conn = sqlite3.connect(path_sqlite3)\n",
    "\n",
    "query_promt = '''\n",
    "SELECT d.slug, d.product_name, c.category_name\n",
    "FROM product d \n",
    "JOIN category c ON c.category_id = d.category_id\n",
    "'''\n",
    "\n",
    "df = pd.read_sql_query(query_promt, conn)\n",
    "df.head()\n",
    "# content = df.iloc[0].to_dict()\n",
    "# content"
   ]
  },
  {
   "cell_type": "code",
   "execution_count": 19,
   "metadata": {},
   "outputs": [
    {
     "data": {
      "text/plain": [
       "True"
      ]
     },
     "execution_count": 19,
     "metadata": {},
     "output_type": "execute_result"
    }
   ],
   "source": [
    "# init collection\n",
    "client.create_collection(\n",
    "    collection_name=\"product\",\n",
    "    vectors_config=VectorParams(size=384, distance=Distance.COSINE),\n",
    ")"
   ]
  },
  {
   "cell_type": "code",
   "execution_count": 34,
   "metadata": {},
   "outputs": [],
   "source": [
    "# embedding slug into qdrant with 5 record head\n",
    "import requests, uuid\n",
    "\n",
    "for _, it in df.head().iterrows():\n",
    "    content = it.to_dict()\n",
    "    text_embedding = content['slug']\n",
    "    rep = requests.get(f'http://9net.ddns.net:9008/embedding?q={text_embedding}')\n",
    "    vector = rep.json()['embedding']\n",
    "    point = PointStruct(id=str(uuid.uuid4()),\n",
    "                      vector=vector,\n",
    "                      payload=content)\n",
    "    client.upsert(collection_name=\"product\", points=[point])"
   ]
  },
  {
   "cell_type": "code",
   "execution_count": 39,
   "metadata": {},
   "outputs": [
    {
     "data": {
      "text/plain": [
       "{'id': '13926ef6-5fd7-4e11-bd1a-46d91393f772',\n",
       " 'version': 0,\n",
       " 'score': 0.4602108656855013,\n",
       " 'payload': {'slug': 'women-canvas-messenger-bag-youth-ladies-fashion-shoulder-bag-student-large-capacity-female-crossbody-bags-woman-packet',\n",
       "  'product_name': 'Women Canvas Messenger Bag Youth Ladies Fashion Shoulder Bag Student Large Capacity Female Crossbody Bags Woman Packet',\n",
       "  'category_name': 'Luggages & Bags'},\n",
       " 'vector': None,\n",
       " 'shard_key': None}"
      ]
     },
     "execution_count": 39,
     "metadata": {},
     "output_type": "execute_result"
    }
   ],
   "source": [
    "# search\n",
    "prompt = 'women'\n",
    "prompt_embedding = requests.get(f'http://9net.ddns.net:9008/embedding?q={prompt}').json()['embedding']\n",
    "results = client.search(collection_name=\"product\", query_vector=prompt_embedding, limit=2)\n",
    "results[0].model_dump()"
   ]
  },
  {
   "cell_type": "code",
   "execution_count": 40,
   "metadata": {},
   "outputs": [],
   "source": [
    "# close\n",
    "client.close()"
   ]
  }
 ],
 "metadata": {
  "kernelspec": {
   "display_name": "base",
   "language": "python",
   "name": "python3"
  },
  "language_info": {
   "codemirror_mode": {
    "name": "ipython",
    "version": 3
   },
   "file_extension": ".py",
   "mimetype": "text/x-python",
   "name": "python",
   "nbconvert_exporter": "python",
   "pygments_lexer": "ipython3",
   "version": "3.10.8"
  }
 },
 "nbformat": 4,
 "nbformat_minor": 2
}
