{
 "cells": [
  {
   "cell_type": "code",
   "execution_count": 1,
   "metadata": {},
   "outputs": [],
   "source": [
    "from qdrant_tool import QdrantTool"
   ]
  },
  {
   "cell_type": "code",
   "execution_count": 2,
   "metadata": {},
   "outputs": [],
   "source": [
    "qd = QdrantTool(path=\"qdrant_db\")"
   ]
  },
  {
   "cell_type": "code",
   "execution_count": 3,
   "metadata": {},
   "outputs": [
    {
     "data": {
      "text/plain": [
       "['product']"
      ]
     },
     "execution_count": 3,
     "metadata": {},
     "output_type": "execute_result"
    }
   ],
   "source": [
    "qd.all_collection_name"
   ]
  },
  {
   "cell_type": "code",
   "execution_count": 3,
   "metadata": {},
   "outputs": [
    {
     "name": "stdout",
     "output_type": "stream",
     "text": [
      "✅ init collection success\n"
     ]
    }
   ],
   "source": [
    "qd.reinit_collection(collection_name=\"product\")"
   ]
  },
  {
   "cell_type": "code",
   "execution_count": 1,
   "metadata": {},
   "outputs": [],
   "source": [
    "import sqlite3\n",
    "import pandas as pd\n",
    "path_sqlite3 = \"/Users/qxnam/Documents/semeter/DATA-PLATFORM/IUHKart/iuhkart/db.sqlite3\"\n",
    "conn = sqlite3.connect(path_sqlite3)\n",
    "\n",
    "query_promt = '''\n",
    "SELECT d.slug, d.product_name, c.category_name\n",
    "FROM product d \n",
    "JOIN category c ON c.category_id = d.category_id\n",
    "'''\n",
    "\n",
    "df = pd.read_sql_query(query_promt, conn)"
   ]
  },
  {
   "cell_type": "code",
   "execution_count": 5,
   "metadata": {},
   "outputs": [
    {
     "name": "stderr",
     "output_type": "stream",
     "text": [
      "Inserting: 100%|██████████| 146/146 [00:17<00:00,  8.35it/s, Status=✅ Success]\n"
     ]
    }
   ],
   "source": [
    "qd.insert(df)"
   ]
  },
  {
   "cell_type": "code",
   "execution_count": 9,
   "metadata": {},
   "outputs": [
    {
     "data": {
      "text/plain": [
       "[{'id': 'a82d6f71-75b8-4efd-a67d-d76e26983bcd',\n",
       "  'version': 0,\n",
       "  'score': 0.49265187379202524,\n",
       "  'payload': {'slug': 'womens-shoulder-canvas-bag-large-with-chain-capacity-for-women-on-offer-2023-new',\n",
       "   'product_name': \"Women's Shoulder Canvas Bag Large With Chain Capacity for\\xa0women on offer 2023\\xa0new\",\n",
       "   'category_name': 'Luggages & Bags'},\n",
       "  'vector': None,\n",
       "  'shard_key': None},\n",
       " {'id': '749fdfe4-637a-40da-af6d-2330cd79a368',\n",
       "  'version': 0,\n",
       "  'score': 0.4602108656855013,\n",
       "  'payload': {'slug': 'women-canvas-messenger-bag-youth-ladies-fashion-shoulder-bag-student-large-capacity-female-crossbody-bags-woman-packet',\n",
       "   'product_name': 'Women Canvas Messenger Bag Youth Ladies Fashion Shoulder Bag Student Large Capacity Female Crossbody Bags Woman Packet',\n",
       "   'category_name': 'Luggages & Bags'},\n",
       "  'vector': None,\n",
       "  'shard_key': None}]"
      ]
     },
     "execution_count": 9,
     "metadata": {},
     "output_type": "execute_result"
    }
   ],
   "source": [
    "qd.search(prompt='women', limit=2)"
   ]
  },
  {
   "cell_type": "code",
   "execution_count": 4,
   "metadata": {},
   "outputs": [
    {
     "name": "stdout",
     "output_type": "stream",
     "text": [
      "👋 bye\n"
     ]
    }
   ],
   "source": [
    "qd.close()"
   ]
  }
 ],
 "metadata": {
  "kernelspec": {
   "display_name": "base",
   "language": "python",
   "name": "python3"
  },
  "language_info": {
   "codemirror_mode": {
    "name": "ipython",
    "version": 3
   },
   "file_extension": ".py",
   "mimetype": "text/x-python",
   "name": "python",
   "nbconvert_exporter": "python",
   "pygments_lexer": "ipython3",
   "version": "3.10.8"
  }
 },
 "nbformat": 4,
 "nbformat_minor": 2
}
